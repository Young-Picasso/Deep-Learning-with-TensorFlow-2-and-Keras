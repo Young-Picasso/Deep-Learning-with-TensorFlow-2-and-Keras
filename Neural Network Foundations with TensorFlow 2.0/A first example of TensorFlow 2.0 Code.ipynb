{
 "cells": [
  {
   "cell_type": "code",
   "execution_count": 2,
   "metadata": {},
   "outputs": [],
   "source": [
    "import tensorflow as tf\n",
    "from tensorflow import keras\n",
    "NB_CLASSES = 10\n",
    "RESHAPED = 784\n",
    "model = tf.keras.models.Sequential()\n",
    "model.add(keras.layers.Dense(NB_CLASSES, input_shape=(RESHAPED,), kernel_initializer='zeros', name='dense_layer',\n",
    "                             activation='softmax'))"
   ]
  },
  {
   "cell_type": "markdown",
   "metadata": {},
   "source": [
    "This code defines a single layer with 10 artificial neurons that expects 784 input variables (features)."
   ]
  },
  {
   "cell_type": "markdown",
   "metadata": {},
   "source": [
    "Each neuron can be initialized with specific weights via the kernel_initializer parameter. There are a few different choices including:  \n",
    "random_uniform: Weights are initialized to uniformly random small values in the range -0.05 to 0.05  \n",
    "random_normal: Weights are initialized according to a Gaussian distribution, with zero mean and a small std of 0.05  \n",
    "zero: All weights are initialized to zero (which is not desirable)"
   ]
  }
 ],
 "metadata": {
  "kernelspec": {
   "display_name": "MachineLearningUsingTensorFlowCookbook",
   "language": "python",
   "name": "machinelearningusingtensorflowcookbook"
  },
  "language_info": {
   "codemirror_mode": {
    "name": "ipython",
    "version": 3
   },
   "file_extension": ".py",
   "mimetype": "text/x-python",
   "name": "python",
   "nbconvert_exporter": "python",
   "pygments_lexer": "ipython3",
   "version": "3.7.3"
  }
 },
 "nbformat": 4,
 "nbformat_minor": 2
}
